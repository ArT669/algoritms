{
 "cells": [
  {
   "cell_type": "code",
   "execution_count": 24,
   "metadata": {},
   "outputs": [],
   "source": [
    "# thinking that we have already sorted list\n",
    "def binary_search(arr: list, item: int) -> int:\n",
    "    # put the bounds(index) in working area\n",
    "    low = 0\n",
    "    high = len(arr) - 1\n",
    "    # while working area > 1 in fact\n",
    "    while low <= high:\n",
    "        # I was thinking about 1.5 in mid soooo it is // now, \n",
    "        # because otherwise we will get error with FLOAT index\n",
    "        mid = (low + high) // 2\n",
    "        guess = arr[mid]\n",
    "        # turn it to left\n",
    "        if guess > item:\n",
    "            high = mid - 1\n",
    "        # turn it to right\n",
    "        elif guess < item:\n",
    "            low = mid + 1\n",
    "        elif guess == item:\n",
    "            return mid\n",
    "    return None\n",
    "        \n",
    "my_array = [1, 2, 3, 4, 5, 6]\n",
    "binary_search(my_array, 6)"
   ]
  }
 ],
 "metadata": {
  "kernelspec": {
   "display_name": "Python 3",
   "language": "python",
   "name": "python3"
  },
  "language_info": {
   "codemirror_mode": {
    "name": "ipython",
    "version": 3
   },
   "file_extension": ".py",
   "mimetype": "text/x-python",
   "name": "python",
   "nbconvert_exporter": "python",
   "pygments_lexer": "ipython3",
   "version": "3.11.5"
  }
 },
 "nbformat": 4,
 "nbformat_minor": 2
}
